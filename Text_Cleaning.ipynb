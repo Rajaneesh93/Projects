{
  "nbformat": 4,
  "nbformat_minor": 0,
  "metadata": {
    "kernelspec": {
      "language": "python",
      "display_name": "Python 3",
      "name": "python3"
    },
    "language_info": {
      "pygments_lexer": "ipython3",
      "nbconvert_exporter": "python",
      "version": "3.6.4",
      "file_extension": ".py",
      "codemirror_mode": {
        "name": "ipython",
        "version": 3
      },
      "name": "python",
      "mimetype": "text/x-python"
    },
    "colab": {
      "name": "Text Cleaning ",
      "provenance": [],
      "include_colab_link": true
    }
  },
  "cells": [
    {
      "cell_type": "markdown",
      "metadata": {
        "id": "view-in-github",
        "colab_type": "text"
      },
      "source": [
        "<a href=\"https://colab.research.google.com/github/vansh123321/Projects/blob/master/Text_Cleaning.ipynb\" target=\"_parent\"><img src=\"https://colab.research.google.com/assets/colab-badge.svg\" alt=\"Open In Colab\"/></a>"
      ]
    },
    {
      "cell_type": "markdown",
      "metadata": {
        "id": "A7RSolkJlPXh",
        "colab_type": "text"
      },
      "source": [
        "**Library**"
      ]
    },
    {
      "cell_type": "code",
      "metadata": {
        "id": "D_YdGzNL4YKB",
        "colab_type": "code",
        "colab": {
          "base_uri": "https://localhost:8080/",
          "height": 208
        },
        "outputId": "32c9a2b3-2322-4890-ce3c-07d7a4d1c6f0"
      },
      "source": [
        "!wget https://raw.githubusercontent.com/tylerneylon/explacy/master/explacy.py"
      ],
      "execution_count": 24,
      "outputs": [
        {
          "output_type": "stream",
          "text": [
            "--2020-07-22 09:36:43--  https://raw.githubusercontent.com/tylerneylon/explacy/master/explacy.py\n",
            "Resolving raw.githubusercontent.com (raw.githubusercontent.com)... 151.101.0.133, 151.101.64.133, 151.101.128.133, ...\n",
            "Connecting to raw.githubusercontent.com (raw.githubusercontent.com)|151.101.0.133|:443... connected.\n",
            "HTTP request sent, awaiting response... 200 OK\n",
            "Length: 6863 (6.7K) [text/plain]\n",
            "Saving to: ‘explacy.py.2’\n",
            "\n",
            "\rexplacy.py.2          0%[                    ]       0  --.-KB/s               \rexplacy.py.2        100%[===================>]   6.70K  --.-KB/s    in 0s      \n",
            "\n",
            "2020-07-22 09:36:43 (81.8 MB/s) - ‘explacy.py.2’ saved [6863/6863]\n",
            "\n"
          ],
          "name": "stdout"
        }
      ]
    },
    {
      "cell_type": "code",
      "metadata": {
        "_uuid": "8f2839f25d086af736a60e9eeb907d3b93b6e0e5",
        "_cell_guid": "b1076dfc-b9ad-4769-8c92-a6c4dae69d19",
        "trusted": true,
        "id": "UdZfxXexMcR8",
        "colab_type": "code",
        "colab": {
          "base_uri": "https://localhost:8080/",
          "height": 52
        },
        "outputId": "cb10d6e6-5f24-4633-e5c7-b30c2142e8c0"
      },
      "source": [
        "\n",
        "import numpy as np\n",
        "import pandas as pd\n",
        "import nltk\n",
        "import nltk as nlp\n",
        "import string\n",
        "import re\n",
        "import spacy\n",
        "from spacy import displacy\n",
        "import nltk\n",
        "nltk.download('punkt')\n",
        "from textblob import TextBlob\n"
      ],
      "execution_count": 25,
      "outputs": [
        {
          "output_type": "stream",
          "text": [
            "[nltk_data] Downloading package punkt to /root/nltk_data...\n",
            "[nltk_data]   Package punkt is already up-to-date!\n"
          ],
          "name": "stdout"
        }
      ]
    },
    {
      "cell_type": "markdown",
      "metadata": {
        "id": "CHxA6nMzM-fx",
        "colab_type": "text"
      },
      "source": [
        "**Split Text**"
      ]
    },
    {
      "cell_type": "code",
      "metadata": {
        "id": "RSupLOSsNMYi",
        "colab_type": "code",
        "colab": {
          "base_uri": "https://localhost:8080/",
          "height": 35
        },
        "outputId": "a24bc53b-1dbe-42f2-ddc5-c1303440734f"
      },
      "source": [
        "def split(text):\n",
        "  return text.split()\n",
        "split(\"i am going to varanasi\")"
      ],
      "execution_count": 26,
      "outputs": [
        {
          "output_type": "execute_result",
          "data": {
            "text/plain": [
              "['i', 'am', 'going', 'to', 'varanasi']"
            ]
          },
          "metadata": {
            "tags": []
          },
          "execution_count": 26
        }
      ]
    },
    {
      "cell_type": "markdown",
      "metadata": {
        "id": "N-W0U0hyOU0l",
        "colab_type": "text"
      },
      "source": [
        "**Lower and UpperCase**"
      ]
    },
    {
      "cell_type": "code",
      "metadata": {
        "id": "h1CEiN7pM901",
        "colab_type": "code",
        "colab": {
          "base_uri": "https://localhost:8080/",
          "height": 35
        },
        "outputId": "c119954f-1fc7-40c0-98d4-f6ce7716d400"
      },
      "source": [
        "def lower(text):\n",
        "     for word in text.split():\n",
        "            return word.lower()\n",
        "lower(\"vaNsh \")"
      ],
      "execution_count": 27,
      "outputs": [
        {
          "output_type": "execute_result",
          "data": {
            "application/vnd.google.colaboratory.intrinsic": {
              "type": "string"
            },
            "text/plain": [
              "'vansh'"
            ]
          },
          "metadata": {
            "tags": []
          },
          "execution_count": 27
        }
      ]
    },
    {
      "cell_type": "code",
      "metadata": {
        "id": "Gi4rXX6hOhh9",
        "colab_type": "code",
        "colab": {
          "base_uri": "https://localhost:8080/",
          "height": 35
        },
        "outputId": "33ac663c-a92a-46ee-92f3-20eb361a9825"
      },
      "source": [
        "def upper(text):\n",
        "     for word in text.split():\n",
        "            return word.upper()\n",
        "upper(\"vaNsh \")"
      ],
      "execution_count": 28,
      "outputs": [
        {
          "output_type": "execute_result",
          "data": {
            "application/vnd.google.colaboratory.intrinsic": {
              "type": "string"
            },
            "text/plain": [
              "'VANSH'"
            ]
          },
          "metadata": {
            "tags": []
          },
          "execution_count": 28
        }
      ]
    },
    {
      "cell_type": "markdown",
      "metadata": {
        "id": "Sgy6ZetWTn3u",
        "colab_type": "text"
      },
      "source": [
        "**Exclude and Extract Number**"
      ]
    },
    {
      "cell_type": "code",
      "metadata": {
        "id": "ciuM88QESLXC",
        "colab_type": "code",
        "colab": {
          "base_uri": "https://localhost:8080/",
          "height": 35
        },
        "outputId": "308142c3-2b8d-47f0-ab3b-4615c8c4d524"
      },
      "source": [
        "def exclude_number(text):\n",
        "  return ''.join([i for i in text if not i.isdigit()])\n",
        "exclude_number(\"Vansh12\")"
      ],
      "execution_count": 29,
      "outputs": [
        {
          "output_type": "execute_result",
          "data": {
            "application/vnd.google.colaboratory.intrinsic": {
              "type": "string"
            },
            "text/plain": [
              "'Vansh'"
            ]
          },
          "metadata": {
            "tags": []
          },
          "execution_count": 29
        }
      ]
    },
    {
      "cell_type": "code",
      "metadata": {
        "id": "yfAO8WrpUAWV",
        "colab_type": "code",
        "colab": {
          "base_uri": "https://localhost:8080/",
          "height": 35
        },
        "outputId": "ee0faead-d2e8-4699-f201-7de0268485f7"
      },
      "source": [
        "def extract_numner(text):\n",
        "    return ''.join([i for i in text if i.isdigit()])\n",
        "extract_numner(\"21 year old\")"
      ],
      "execution_count": 30,
      "outputs": [
        {
          "output_type": "execute_result",
          "data": {
            "application/vnd.google.colaboratory.intrinsic": {
              "type": "string"
            },
            "text/plain": [
              "'21'"
            ]
          },
          "metadata": {
            "tags": []
          },
          "execution_count": 30
        }
      ]
    },
    {
      "cell_type": "markdown",
      "metadata": {
        "id": "-tsSu4n9Mgct",
        "colab_type": "text"
      },
      "source": [
        "**Remove Punctuation**"
      ]
    },
    {
      "cell_type": "code",
      "metadata": {
        "trusted": true,
        "id": "DJ91EJOkMcSG",
        "colab_type": "code",
        "colab": {
          "base_uri": "https://localhost:8080/",
          "height": 35
        },
        "outputId": "6d480f87-738f-4476-e0ac-fde6cbafb3c6"
      },
      "source": [
        "def remove_punct(text):\n",
        "    text  = \"\".join([char for char in text if char not in string.punctuation])\n",
        "    text = re.sub('[0-9]+', '', text)\n",
        "    return text\n",
        "remove_punct(\"Wow!!!\")"
      ],
      "execution_count": 31,
      "outputs": [
        {
          "output_type": "execute_result",
          "data": {
            "application/vnd.google.colaboratory.intrinsic": {
              "type": "string"
            },
            "text/plain": [
              "'Wow'"
            ]
          },
          "metadata": {
            "tags": []
          },
          "execution_count": 31
        }
      ]
    },
    {
      "cell_type": "markdown",
      "metadata": {
        "id": "xj1YhPR2W1Ge",
        "colab_type": "text"
      },
      "source": [
        "**Remove Emojis**"
      ]
    },
    {
      "cell_type": "code",
      "metadata": {
        "id": "qQLbqsQNU2Wz",
        "colab_type": "code",
        "colab": {
          "base_uri": "https://localhost:8080/",
          "height": 35
        },
        "outputId": "c93a8f00-43f4-4f1a-f886-49a99e7661f9"
      },
      "source": [
        "def remove_emoji(text):\n",
        "    remoji = re.compile(\"[\"\n",
        "                           u\"\\U0001F600-\\U0001F64F\"  \n",
        "                           u\"\\U0001F300-\\U0001F5FF\"  \n",
        "                           u\"\\U0001F680-\\U0001F6FF\"  \n",
        "                           u\"\\U0001F1E0-\\U0001F1FF\" \n",
        "                           u\"\\U00002702-\\U000027B0\"\n",
        "                           u\"\\U000024C2-\\U0001F251\"\n",
        "                           \"]+\", flags=re.UNICODE)\n",
        "    return remoji.sub(r'', text)\n",
        "remove_emoji(\"😂 Laughing 😂 Laughing Crying 😂 Laughing Tears\")"
      ],
      "execution_count": 32,
      "outputs": [
        {
          "output_type": "execute_result",
          "data": {
            "application/vnd.google.colaboratory.intrinsic": {
              "type": "string"
            },
            "text/plain": [
              "' Laughing  Laughing Crying  Laughing Tears'"
            ]
          },
          "metadata": {
            "tags": []
          },
          "execution_count": 32
        }
      ]
    },
    {
      "cell_type": "markdown",
      "metadata": {
        "id": "XviqK4kWoK-x",
        "colab_type": "text"
      },
      "source": [
        "**Remove Special Charecter**"
      ]
    },
    {
      "cell_type": "code",
      "metadata": {
        "id": "pa5l-OZ9oJlS",
        "colab_type": "code",
        "colab": {
          "base_uri": "https://localhost:8080/",
          "height": 35
        },
        "outputId": "facf1bdc-f1d7-46d8-f7ed-1ce7d08c8061"
      },
      "source": [
        "def remove_schar(text):\n",
        "    text = re.sub('[^A-Za-z0-9]+', ' ', text)\n",
        "    return(text)\n",
        "remove_schar('vansh@jatana')"
      ],
      "execution_count": 33,
      "outputs": [
        {
          "output_type": "execute_result",
          "data": {
            "application/vnd.google.colaboratory.intrinsic": {
              "type": "string"
            },
            "text/plain": [
              "'vansh jatana'"
            ]
          },
          "metadata": {
            "tags": []
          },
          "execution_count": 33
        }
      ]
    },
    {
      "cell_type": "markdown",
      "metadata": {
        "id": "OegV7KTFZIgD",
        "colab_type": "text"
      },
      "source": [
        "**Remove Stop Words**"
      ]
    },
    {
      "cell_type": "code",
      "metadata": {
        "id": "KR3aeotDZHaV",
        "colab_type": "code",
        "colab": {
          "base_uri": "https://localhost:8080/",
          "height": 69
        },
        "outputId": "33c32322-45e5-432b-c5ea-2f05c60b6239"
      },
      "source": [
        "import nltk\n",
        "nltk.download('stopwords')"
      ],
      "execution_count": 34,
      "outputs": [
        {
          "output_type": "stream",
          "text": [
            "[nltk_data] Downloading package stopwords to /root/nltk_data...\n",
            "[nltk_data]   Package stopwords is already up-to-date!\n"
          ],
          "name": "stdout"
        },
        {
          "output_type": "execute_result",
          "data": {
            "text/plain": [
              "True"
            ]
          },
          "metadata": {
            "tags": []
          },
          "execution_count": 34
        }
      ]
    },
    {
      "cell_type": "code",
      "metadata": {
        "id": "RjCNFOqeZgJc",
        "colab_type": "code",
        "colab": {
          "base_uri": "https://localhost:8080/",
          "height": 35
        },
        "outputId": "37d43a9d-7e5a-418e-8500-2de4dda7cfd2"
      },
      "source": [
        "stopword = nltk.corpus.stopwords.words('english')\n",
        "def remove_stopwords(text):\n",
        "    text = [word for word in text if word not in stopword]\n",
        "    return text\n",
        "remove_stopwords(\"developed\")"
      ],
      "execution_count": 35,
      "outputs": [
        {
          "output_type": "execute_result",
          "data": {
            "text/plain": [
              "['e', 'v', 'e', 'l', 'p', 'e']"
            ]
          },
          "metadata": {
            "tags": []
          },
          "execution_count": 35
        }
      ]
    },
    {
      "cell_type": "markdown",
      "metadata": {
        "id": "sRRMKLZrZ1fZ",
        "colab_type": "text"
      },
      "source": [
        "**Stemming, Lemitization and Tokenization**"
      ]
    },
    {
      "cell_type": "code",
      "metadata": {
        "id": "mPlXHTonZ31p",
        "colab_type": "code",
        "colab": {}
      },
      "source": [
        "ps = nltk.PorterStemmer()\n",
        "\n",
        "def stemming(text):\n",
        "    text = [ps.stem(word) for word in text]\n",
        "    return text"
      ],
      "execution_count": 36,
      "outputs": []
    },
    {
      "cell_type": "code",
      "metadata": {
        "id": "83F6v19VZ5Gl",
        "colab_type": "code",
        "colab": {}
      },
      "source": [
        "wn = nltk.WordNetLemmatizer()\n",
        "\n",
        "def lemmatizer(text):\n",
        "    text = [wn.lemmatize(word) for word in text]\n",
        "    return text"
      ],
      "execution_count": 37,
      "outputs": []
    },
    {
      "cell_type": "code",
      "metadata": {
        "id": "1LlXcL4Lbsby",
        "colab_type": "code",
        "colab": {}
      },
      "source": [
        "def tokenize(text):\n",
        "    tokens = nltk.word_tokenize(text)\n",
        "    tw = [w for w in tokens if w.isalpha()]\n",
        "    jw = ( \" \".join(tw))\n",
        "    return jw"
      ],
      "execution_count": 38,
      "outputs": []
    },
    {
      "cell_type": "markdown",
      "metadata": {
        "id": "nJ4wvBjERHEA",
        "colab_type": "text"
      },
      "source": [
        "**Singular and Plural**"
      ]
    },
    {
      "cell_type": "code",
      "metadata": {
        "trusted": true,
        "id": "caWDNLbLMcS_",
        "colab_type": "code",
        "colab": {
          "base_uri": "https://localhost:8080/",
          "height": 35
        },
        "outputId": "a3fe7680-e20b-46f2-c1b8-2e823ad1686b"
      },
      "source": [
        "def singular(text):\n",
        "    gfg = TextBlob(text)\n",
        "    return gfg.words.singularize()\n",
        "singular(\"schools\")"
      ],
      "execution_count": 39,
      "outputs": [
        {
          "output_type": "execute_result",
          "data": {
            "text/plain": [
              "WordList(['school'])"
            ]
          },
          "metadata": {
            "tags": []
          },
          "execution_count": 39
        }
      ]
    },
    {
      "cell_type": "code",
      "metadata": {
        "id": "9NHYGnavRPIA",
        "colab_type": "code",
        "colab": {
          "base_uri": "https://localhost:8080/",
          "height": 35
        },
        "outputId": "d547f6e6-1fc6-4001-88ae-fb82d3532e8d"
      },
      "source": [
        "def plural(text):\n",
        "    gfg = TextBlob(text)\n",
        "    return gfg.words.pluralize()\n",
        "plural(\"school\")"
      ],
      "execution_count": 40,
      "outputs": [
        {
          "output_type": "execute_result",
          "data": {
            "text/plain": [
              "WordList(['schools'])"
            ]
          },
          "metadata": {
            "tags": []
          },
          "execution_count": 40
        }
      ]
    },
    {
      "cell_type": "markdown",
      "metadata": {
        "id": "r5rbu25Km2hb",
        "colab_type": "text"
      },
      "source": [
        "**Correction**"
      ]
    },
    {
      "cell_type": "code",
      "metadata": {
        "trusted": true,
        "id": "xUl5Zeu7McTA",
        "colab_type": "code",
        "colab": {
          "base_uri": "https://localhost:8080/",
          "height": 35
        },
        "outputId": "c25c222a-e4ec-4118-b67f-53802ccd31e1"
      },
      "source": [
        "def correct(text):\n",
        "    gfg = TextBlob(text)\n",
        "    return gfg.correct()\n",
        "correct('scools')"
      ],
      "execution_count": 41,
      "outputs": [
        {
          "output_type": "execute_result",
          "data": {
            "text/plain": [
              "TextBlob(\"schools\")"
            ]
          },
          "metadata": {
            "tags": []
          },
          "execution_count": 41
        }
      ]
    },
    {
      "cell_type": "markdown",
      "metadata": {
        "id": "n2Ca4otzPXWC",
        "colab_type": "text"
      },
      "source": [
        "**Replace String**"
      ]
    },
    {
      "cell_type": "code",
      "metadata": {
        "trusted": true,
        "id": "O4NDzRUUMcTG",
        "colab_type": "code",
        "colab": {
          "base_uri": "https://localhost:8080/",
          "height": 35
        },
        "outputId": "a4bac0bd-a63a-489e-ba13-2228716a4e97"
      },
      "source": [
        "def replace(string): \n",
        "    return string.replace(\"I\", \"Vansh\")\n",
        "replace(\"I live in haryana\")"
      ],
      "execution_count": 42,
      "outputs": [
        {
          "output_type": "execute_result",
          "data": {
            "application/vnd.google.colaboratory.intrinsic": {
              "type": "string"
            },
            "text/plain": [
              "'Vansh live in haryana'"
            ]
          },
          "metadata": {
            "tags": []
          },
          "execution_count": 42
        }
      ]
    },
    {
      "cell_type": "markdown",
      "metadata": {
        "id": "vpMZfMFmcrlH",
        "colab_type": "text"
      },
      "source": [
        "**Parse Tree**"
      ]
    },
    {
      "cell_type": "code",
      "metadata": {
        "id": "p9exnzebcu2S",
        "colab_type": "code",
        "colab": {
          "base_uri": "https://localhost:8080/",
          "height": 139
        },
        "outputId": "ed2117e8-368a-4117-86e5-b8f0e4e17c53"
      },
      "source": [
        "import spacy\n",
        "import explacy\n",
        "\n",
        "from spacy import displacy\n",
        "from spacy.util import minibatch, compounding\n",
        "spacy_tok = spacy.load('en_core_web_sm')\n",
        "def parse_tree(text):\n",
        "  explacy.print_parse_info(spacy_tok, text)\n",
        "parse_tree(\"I am going to delhi\")"
      ],
      "execution_count": 43,
      "outputs": [
        {
          "output_type": "stream",
          "text": [
            "Dep tree Token Dep type Lemma  Part of Sp\n",
            "──────── ───── ──────── ────── ──────────\n",
            "  ┌──►   I     nsubj    -PRON- PRON      \n",
            "  │┌─►   am    aux      be     AUX       \n",
            "┌─┴┴──   going ROOT     go     VERB      \n",
            "│  ┌─►   to    aux      to     ADP       \n",
            "└─►└──   delhi xcomp    delhi  PROPN     \n"
          ],
          "name": "stdout"
        }
      ]
    }
  ]
}