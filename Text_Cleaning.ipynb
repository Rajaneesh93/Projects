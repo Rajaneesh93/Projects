{
  "nbformat": 4,
  "nbformat_minor": 0,
  "metadata": {
    "kernelspec": {
      "language": "python",
      "display_name": "Python 3",
      "name": "python3"
    },
    "language_info": {
      "pygments_lexer": "ipython3",
      "nbconvert_exporter": "python",
      "version": "3.6.4",
      "file_extension": ".py",
      "codemirror_mode": {
        "name": "ipython",
        "version": 3
      },
      "name": "python",
      "mimetype": "text/x-python"
    },
    "colab": {
      "name": "Text Cleaning ",
      "provenance": [],
      "include_colab_link": true
    }
  },
  "cells": [
    {
      "cell_type": "markdown",
      "metadata": {
        "id": "view-in-github",
        "colab_type": "text"
      },
      "source": [
        "<a href=\"https://colab.research.google.com/github/vansh123321/Projects/blob/master/Text_Cleaning.ipynb\" target=\"_parent\"><img src=\"https://colab.research.google.com/assets/colab-badge.svg\" alt=\"Open In Colab\"/></a>"
      ]
    },
    {
      "cell_type": "markdown",
      "metadata": {
        "id": "A7RSolkJlPXh",
        "colab_type": "text"
      },
      "source": [
        "**Library**"
      ]
    },
    {
      "cell_type": "code",
      "metadata": {
        "_uuid": "8f2839f25d086af736a60e9eeb907d3b93b6e0e5",
        "_cell_guid": "b1076dfc-b9ad-4769-8c92-a6c4dae69d19",
        "trusted": true,
        "id": "UdZfxXexMcR8",
        "colab_type": "code",
        "colab": {}
      },
      "source": [
        "\n",
        "import numpy as np\n",
        "import pandas as pd\n",
        "import nltk\n",
        "import nltk as nlp\n",
        "import string\n",
        "import re\n",
        "import spacy\n",
        "from spacy import displacy\n",
        "import nltk\n",
        "nltk.download('punkt')\n",
        "from textblob import TextBlob\n"
      ],
      "execution_count": 3,
      "outputs": []
    },
    {
      "cell_type": "markdown",
      "metadata": {
        "id": "CHxA6nMzM-fx",
        "colab_type": "text"
      },
      "source": [
        "**Split Text**"
      ]
    },
    {
      "cell_type": "code",
      "metadata": {
        "id": "RSupLOSsNMYi",
        "colab_type": "code",
        "colab": {}
      },
      "source": [
        "def split(text):\n",
        "  return text.split()\n",
        "split(\"i am going to varanasi\")"
      ],
      "execution_count": 18,
      "outputs": []
    },
    {
      "cell_type": "markdown",
      "metadata": {
        "id": "N-W0U0hyOU0l",
        "colab_type": "text"
      },
      "source": [
        "**Lower and UpperCase**"
      ]
    },
    {
      "cell_type": "code",
      "metadata": {
        "id": "h1CEiN7pM901",
        "colab_type": "code",
        "colab": {}
      },
      "source": [
        "def lower(text):\n",
        "     for word in text.split():\n",
        "            return word.lower()\n",
        "lower(\"vaNsh \")"
      ],
      "execution_count": 20,
      "outputs": []
    },
    {
      "cell_type": "code",
      "metadata": {
        "id": "Gi4rXX6hOhh9",
        "colab_type": "code",
        "colab": {}
      },
      "source": [
        "def upper(text):\n",
        "     for word in text.split():\n",
        "            return word.upper()\n",
        "upper(\"vaNsh \")"
      ],
      "execution_count": 23,
      "outputs": []
    },
    {
      "cell_type": "markdown",
      "metadata": {
        "id": "Sgy6ZetWTn3u",
        "colab_type": "text"
      },
      "source": [
        "**Exclude and Extract Number**"
      ]
    },
    {
      "cell_type": "code",
      "metadata": {
        "id": "ciuM88QESLXC",
        "colab_type": "code",
        "colab": {}
      },
      "source": [
        "def exclude_number(text):\n",
        "  return ''.join([i for i in text if not i.isdigit()])\n",
        "exclude_number(\"Vansh12\")"
      ],
      "execution_count": 62,
      "outputs": []
    },
    {
      "cell_type": "code",
      "metadata": {
        "id": "yfAO8WrpUAWV",
        "colab_type": "code",
        "colab": {}
      },
      "source": [
        "def extract_numner(text):\n",
        "    return ''.join([i for i in text if i.isdigit()])\n",
        "extract_numner(\"21 year old\")"
      ],
      "execution_count": 65,
      "outputs": []
    },
    {
      "cell_type": "markdown",
      "metadata": {
        "id": "-tsSu4n9Mgct",
        "colab_type": "text"
      },
      "source": [
        "**Remove Punctuation**"
      ]
    },
    {
      "cell_type": "code",
      "metadata": {
        "trusted": true,
        "id": "DJ91EJOkMcSG",
        "colab_type": "code",
        "colab": {}
      },
      "source": [
        "def remove_punct(text):\n",
        "    text  = \"\".join([char for char in text if char not in string.punctuation])\n",
        "    text = re.sub('[0-9]+', '', text)\n",
        "    return text\n",
        "remove_punct(\"Wow!!!\")"
      ],
      "execution_count": 4,
      "outputs": []
    },
    {
      "cell_type": "markdown",
      "metadata": {
        "id": "xj1YhPR2W1Ge",
        "colab_type": "text"
      },
      "source": [
        "**Remove Emojis**"
      ]
    },
    {
      "cell_type": "code",
      "metadata": {
        "id": "qQLbqsQNU2Wz",
        "colab_type": "code",
        "colab": {}
      },
      "source": [
        "def remove_emoji(text):\n",
        "    remoji = re.compile(\"[\"\n",
        "                           u\"\\U0001F600-\\U0001F64F\"  \n",
        "                           u\"\\U0001F300-\\U0001F5FF\"  \n",
        "                           u\"\\U0001F680-\\U0001F6FF\"  \n",
        "                           u\"\\U0001F1E0-\\U0001F1FF\" \n",
        "                           u\"\\U00002702-\\U000027B0\"\n",
        "                           u\"\\U000024C2-\\U0001F251\"\n",
        "                           \"]+\", flags=re.UNICODE)\n",
        "    return remoji.sub(r'', text)\n",
        "remove_emoji(\"😂 Laughing 😂 Laughing Crying 😂 Laughing Tears\")"
      ],
      "execution_count": 78,
      "outputs": []
    },
    {
      "cell_type": "markdown",
      "metadata": {
        "id": "XviqK4kWoK-x",
        "colab_type": "text"
      },
      "source": [
        "**Remove Special Charecter**"
      ]
    },
    {
      "cell_type": "code",
      "metadata": {
        "id": "pa5l-OZ9oJlS",
        "colab_type": "code",
        "colab": {
          "base_uri": "https://localhost:8080/",
          "height": 35
        },
        "outputId": "d53617fd-9f9e-41e0-a005-f9911e49dc5e"
      },
      "source": [
        "def remove_schar(text):\n",
        "    text = re.sub('[^A-Za-z0-9]+', ' ', text)\n",
        "    return(text)\n",
        "remove_schar('vansh@jatana')"
      ],
      "execution_count": 144,
      "outputs": [
        {
          "output_type": "execute_result",
          "data": {
            "application/vnd.google.colaboratory.intrinsic": {
              "type": "string"
            },
            "text/plain": [
              "'vansh jatana'"
            ]
          },
          "metadata": {
            "tags": []
          },
          "execution_count": 144
        }
      ]
    },
    {
      "cell_type": "markdown",
      "metadata": {
        "id": "OegV7KTFZIgD",
        "colab_type": "text"
      },
      "source": [
        "**Remove Stop Words**"
      ]
    },
    {
      "cell_type": "code",
      "metadata": {
        "id": "KR3aeotDZHaV",
        "colab_type": "code",
        "colab": {
          "base_uri": "https://localhost:8080/",
          "height": 52
        },
        "outputId": "c13c51a2-4b0d-4d67-8d38-c8ca93b5da04"
      },
      "source": [
        "import nltk\n",
        "nltk.download('stopwords')"
      ],
      "execution_count": 83,
      "outputs": [
        {
          "output_type": "stream",
          "text": [
            "[nltk_data] Downloading package stopwords to /root/nltk_data...\n",
            "[nltk_data]   Package stopwords is already up-to-date!\n"
          ],
          "name": "stdout"
        }
      ]
    },
    {
      "cell_type": "code",
      "metadata": {
        "id": "RjCNFOqeZgJc",
        "colab_type": "code",
        "colab": {}
      },
      "source": [
        "stopword = nltk.corpus.stopwords.words('english')\n",
        "def remove_stopwords(text):\n",
        "    text = [word for word in text if word not in stopword]\n",
        "    return text\n",
        "remove_stopwords(\"developed\")"
      ],
      "execution_count": 84,
      "outputs": []
    },
    {
      "cell_type": "markdown",
      "metadata": {
        "id": "sRRMKLZrZ1fZ",
        "colab_type": "text"
      },
      "source": [
        "**Stemming, Lemitization and Tokenization**"
      ]
    },
    {
      "cell_type": "code",
      "metadata": {
        "id": "mPlXHTonZ31p",
        "colab_type": "code",
        "colab": {}
      },
      "source": [
        "ps = nltk.PorterStemmer()\n",
        "\n",
        "def stemming(text):\n",
        "    text = [ps.stem(word) for word in text]\n",
        "    return text"
      ],
      "execution_count": 88,
      "outputs": []
    },
    {
      "cell_type": "code",
      "metadata": {
        "id": "83F6v19VZ5Gl",
        "colab_type": "code",
        "colab": {}
      },
      "source": [
        "wn = nltk.WordNetLemmatizer()\n",
        "\n",
        "def lemmatizer(text):\n",
        "    text = [wn.lemmatize(word) for word in text]\n",
        "    return text"
      ],
      "execution_count": 94,
      "outputs": []
    },
    {
      "cell_type": "code",
      "metadata": {
        "id": "1LlXcL4Lbsby",
        "colab_type": "code",
        "colab": {}
      },
      "source": [
        "def tokenize(text):\n",
        "    tokens = nltk.word_tokenize(text)\n",
        "    tw = [w for w in tokens if w.isalpha()]\n",
        "    jw = ( \" \".join(tw))\n",
        "    return jw"
      ],
      "execution_count": 116,
      "outputs": []
    },
    {
      "cell_type": "markdown",
      "metadata": {
        "id": "nJ4wvBjERHEA",
        "colab_type": "text"
      },
      "source": [
        "**Singular and Plural**"
      ]
    },
    {
      "cell_type": "code",
      "metadata": {
        "trusted": true,
        "id": "caWDNLbLMcS_",
        "colab_type": "code",
        "colab": {}
      },
      "source": [
        "def singular(text):\n",
        "    gfg = TextBlob(text)\n",
        "    return gfg.words.singularize()\n",
        "singular(\"schools\")"
      ],
      "execution_count": 34,
      "outputs": []
    },
    {
      "cell_type": "code",
      "metadata": {
        "id": "9NHYGnavRPIA",
        "colab_type": "code",
        "colab": {}
      },
      "source": [
        "def plural(text):\n",
        "    gfg = TextBlob(text)\n",
        "    return gfg.words.pluralize()\n",
        "plural(\"school\")"
      ],
      "execution_count": 45,
      "outputs": []
    },
    {
      "cell_type": "markdown",
      "metadata": {
        "id": "r5rbu25Km2hb",
        "colab_type": "text"
      },
      "source": [
        "**Correction**"
      ]
    },
    {
      "cell_type": "code",
      "metadata": {
        "trusted": true,
        "id": "xUl5Zeu7McTA",
        "colab_type": "code",
        "colab": {}
      },
      "source": [
        "def correct(text):\n",
        "    gfg = TextBlob(text)\n",
        "    return gfg.correct()\n",
        "correct('scools')"
      ],
      "execution_count": 40,
      "outputs": []
    },
    {
      "cell_type": "markdown",
      "metadata": {
        "id": "n2Ca4otzPXWC",
        "colab_type": "text"
      },
      "source": [
        "**Replace String**"
      ]
    },
    {
      "cell_type": "code",
      "metadata": {
        "trusted": true,
        "id": "O4NDzRUUMcTG",
        "colab_type": "code",
        "colab": {}
      },
      "source": [
        "def replace(string): \n",
        "    return string.replace(\"I\", \"Vansh\")\n",
        "replace(\"I live in haryana\")"
      ],
      "execution_count": 28,
      "outputs": []
    },
    {
      "cell_type": "markdown",
      "metadata": {
        "id": "vpMZfMFmcrlH",
        "colab_type": "text"
      },
      "source": [
        "**Parse Tree**"
      ]
    },
    {
      "cell_type": "code",
      "metadata": {
        "id": "p9exnzebcu2S",
        "colab_type": "code",
        "colab": {}
      },
      "source": [
        "import spacy\n",
        "from spacy import displacy\n",
        "from spacy.util import minibatch, compounding\n",
        "spacy_tok = spacy.load('en_core_web_sm')\n",
        "def parse_tree(text):\n",
        "  explacy.print_parse_info(spacy_tok, text)\n",
        "parse_tree(\"I am going to delhi\")"
      ],
      "execution_count": 122,
      "outputs": []
    }
  ]
}